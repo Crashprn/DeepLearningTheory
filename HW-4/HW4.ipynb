{
  "nbformat": 4,
  "nbformat_minor": 0,
  "metadata": {
    "colab": {
      "name": "HW4.ipynb",
      "provenance": []
    },
    "kernelspec": {
      "name": "python3",
      "display_name": "Python 3"
    }
  },
  "cells": [
    {
      "cell_type": "code",
      "metadata": {
        "id": "xgQGKYQIlrFt",
        "colab_type": "code",
        "colab": {}
      },
      "source": [
        "#Adding L1 regularization\n",
        "\n",
        "from skorch import NeuralNet\n",
        "\n",
        "class MyModule(nn.Module):\n",
        "    \n",
        "    '''\n",
        "    \n",
        "    Fill in the Neural Network here. Just like you have done for L2 regularization. Exclude the weight_decay param\n",
        "    \n",
        "    '''\n",
        "    \n",
        "    pass\n",
        "\n",
        "class RegularizedNet(NeuralNet):\n",
        "    \n",
        "    '''Exercise - Try different lambda1 values'''\n",
        "    \n",
        "    def __init__(self, *args, lambda1=0.01, **kwargs):\n",
        "        super().__init__(*args, **kwargs)\n",
        "        self.lambda1 = lambda1\n",
        "    \n",
        "    '''Exercise - What is the following the function doing? Explain in detail in the main pdf'''\n",
        "    \n",
        "    def get_loss(self, y_pred, y_true, X=None, training=False):\n",
        "        loss = super().get_loss(y_pred, y_true, X=X, training=training)\n",
        "        loss += self.lambda1 * sum([w.abs().sum() for w in self.module_.parameters()])\n",
        "        return loss\n",
        "\n",
        "new_net = RegularizedNet(module=MyModule, criterion=torch.nn.NLLLoss)\n",
        "\n",
        "\n",
        "'''\n",
        "\n",
        "SECTION - ZZZ\n",
        "\n",
        "New code to transfer weights will come here. Check the cell below\n",
        "\n",
        "'''\n",
        "\n",
        "new_net.fit(X_train, y_train)\n",
        "y_pred_probs = new_net.predict(X_Test) #Remember this generates probabilities. You have to apply a threshold to predictions\n",
        "\n",
        "'''\n",
        "\n",
        "Exercise - Choose Threshold to convert y_pred_probs to y_pred. Compare y_pred with y_test to calculate the accuracy\n",
        "\n",
        "'''\n",
        "    "
      ],
      "execution_count": 0,
      "outputs": []
    },
    {
      "cell_type": "code",
      "metadata": {
        "id": "Gb6yTL_ulzD6",
        "colab_type": "code",
        "colab": {}
      },
      "source": [
        ""
      ],
      "execution_count": 0,
      "outputs": []
    },
    {
      "cell_type": "code",
      "metadata": {
        "id": "UFN1PQ50lzGi",
        "colab_type": "code",
        "colab": {}
      },
      "source": [
        ""
      ],
      "execution_count": 0,
      "outputs": []
    },
    {
      "cell_type": "code",
      "metadata": {
        "id": "OXbcnqA7lzIi",
        "colab_type": "code",
        "colab": {}
      },
      "source": [
        ""
      ],
      "execution_count": 0,
      "outputs": []
    },
    {
      "cell_type": "code",
      "metadata": {
        "id": "Knz4An8-lvAt",
        "colab_type": "code",
        "colab": {}
      },
      "source": [
        "#Refer to https://skorch.readthedocs.io/en/stable/user/save_load.html\n",
        "\n",
        "import pickle\n",
        "\n",
        "#Transfer Learning - \n",
        "#The following code will transfer the weights from L2 trained networks to initialize the new network before L1 training\n",
        "\n",
        "'''\n",
        "\n",
        "Notes - I assumed you have trained your L2 network using Skorch's NeuralNetClassifier\n",
        "        I assume your trained model object is called \"net\"\n",
        "\n",
        "'''\n",
        "\n",
        "#Step - 1 - Save weights from L2 network\n",
        "\n",
        "net.save_params(f_params='some-file.pkl') #This comes after net.fit(). You are saving the model weights in a pickle\n",
        "\n",
        "\n",
        "#Step - 2\n",
        "\n",
        "#Insert the following lines in Section ZZZ\n",
        "\n",
        "new_net.initialize()\n",
        "new_net.load_params(f_params='some-file.pkl')\n",
        "\n"
      ],
      "execution_count": 0,
      "outputs": []
    }
  ]
}