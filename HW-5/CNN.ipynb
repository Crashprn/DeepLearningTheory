{
 "cells": [
  {
   "cell_type": "code",
   "execution_count": null,
   "metadata": {},
   "outputs": [],
   "source": [
    "'''\n",
    ".....IMPORTANT USAGE INSTRUCTIONS........\n",
    "\n",
    "##### IF USING CHPC - UTAH #####\n",
    "\n",
    "1. Download this Jupyter Notebook to a local location on your Computer\n",
    "2. Go to https://ondemand.chpc.utah.edu and sign in using your uNID and Password.\n",
    "3. At the Top of the Page, notice the Menu \"Interactive Apps\". Click and Choose \"Jupyter Notebook on Notchpeak\"\n",
    "4. A form will open, enter all details, and then Launch a Jupyter Notebook. It will take a minute.\n",
    "5. Click on \"Connect to Jupyter\"\n",
    "6. Once Jupyter Launches. On Top Right Notice \"Upload Button\". Use this to Upload this Notebook.\n",
    "7. The Notebook will be uploaded. Finish writing the Code whereever specified.\n",
    "8. Run each Block of Code and then finally download the Jupyter Notebook by going to File >> Download as >>\n",
    "\n",
    "\n",
    "##### IF USING GOOGLE COLAB #####\n",
    "\n",
    "1. Download this Jupyter Notebook to a local location on your Computer\n",
    "2. Go to https://colab.research.google.com/ and sign in using your Google Account - So that your work is saved in\n",
    "   your Google Drive permanently.\n",
    "3. Go to File >> Upload Notebook.\n",
    "4. Finish writing the Code whereever specified.\n",
    "5. Run each Block of Code ad then finally download the Jupyter Notebook by going to File >> Download .ipynb\n",
    "6. Enable GPU. https://medium.com/deep-learning-turkey/google-colab-free-gpu-tutorial-e113627b9f5d \n",
    "\n",
    "'''"
   ]
  },
  {
   "cell_type": "code",
   "execution_count": null,
   "metadata": {},
   "outputs": [],
   "source": [
    "'''\n",
    ".....IMPORTANT SUBMISSION INSTRUCTIONS........\n",
    "\n",
    "Once everything runs successfully, download the jupyter notebook and attach that to your submission in Canvas. \n",
    "During evaluation, I will run your Jupyter Notebook to verify that everything is running as expected.\n",
    "\n",
    "Do not forget to include your main results and plots in your latex file (with other homework questions) \n",
    "before submission.\n",
    "\n",
    "'''"
   ]
  },
  {
   "cell_type": "code",
   "execution_count": null,
   "metadata": {},
   "outputs": [],
   "source": [
    "%matplotlib inline\n",
    "\n",
    "from sklearn.datasets import fetch_openml #Import MNIST from a Package\n",
    "from sklearn.model_selection import train_test_split\n",
    "import numpy as np\n",
    "import matplotlib.pyplot as plt\n",
    "\n",
    "#Standard PyTorch Imports\n",
    "import torch\n",
    "from torch import nn\n",
    "import torch.nn.functional as F\n",
    "\n",
    "#We will be using the PyTorch Wrapper Framework skorch to help simplify the coding\n",
    "from skorch import NeuralNetClassifier\n",
    "\n",
    "#We need to import some Sci-kit Learn modules for computation purposes.\n",
    "from sklearn.metrics import accuracy_score\n",
    "from sklearn.model_selection import GridSearchCV\n",
    "\n",
    "#Global Settings - These settings are critical\n",
    "\n",
    "#If CUDA is available, use CUDA or else default to CPU.\n",
    "device = 'cuda' if torch.cuda.is_available() else 'cpu'\n",
    "\n",
    "#Setting a seed for torch\n",
    "torch.manual_seed(0)"
   ]
  },
  {
   "cell_type": "code",
   "execution_count": 2,
   "metadata": {},
   "outputs": [
    {
     "data": {
      "image/png": "[encoded data removed]",
      "text/plain": [
       "<Figure size 432x288 with 5 Axes>"
      ]
     },
     "metadata": {},
     "output_type": "display_data"
    }
   ],
   "source": [
    "'''\n",
    "Idea is to import Data from fetch_openml package and perform some Normalization\n",
    "\n",
    "'''\n",
    "\n",
    "mnist = fetch_openml('mnist_784', cache=False)\n",
    "X = mnist.data.astype('float32')\n",
    "y = mnist.target.astype('int64')\n",
    "\n",
    "\n",
    "'''\n",
    "Normalize each input from [0.0,1.0] range\n",
    "'''\n",
    "X /= 255.0\n",
    "\n",
    "'''\n",
    "Reshape X to have 4 dimension that is batch_size, channels, Height, Width\n",
    "\n",
    "'''\n",
    "\n",
    "'''\n",
    "Exercise - Explain the role of the indices of the reshape function below.\n",
    "'''\n",
    "\n",
    "XCnn = X.reshape(-1, 1, 28, 28)\n",
    "\n",
    "'''\n",
    "Test Train Split for Calculating accuracy on a Held Out Test Dataset.\n",
    "'''\n",
    "X_train, X_test, y_train, y_test = train_test_split(XCnn, y, test_size=0.25, random_state=42)\n",
    "\n",
    "'''\n",
    "Will do some basic plotting to get a feel for the data that we imported.\n",
    "\n",
    "'''\n",
    "\n",
    "def plot_example(X, y):\n",
    "    \"\"\"Plot the first 5 images and their labels in a row.\"\"\"\n",
    "    for i, (img, y) in enumerate(zip(X[:5].reshape(5, 28, 28), y[:5])):\n",
    "        plt.subplot(151 + i)\n",
    "        plt.imshow(img)\n",
    "        plt.xticks([])\n",
    "        plt.yticks([])\n",
    "        plt.title(y)\n",
    "        \n",
    "plot_example(X_train, y_train)"
   ]
  },
  {
   "cell_type": "code",
   "execution_count": 21,
   "metadata": {},
   "outputs": [],
   "source": [
    "class Cnn(nn.Module):\n",
    "    def __init__(self, dropout=0.4):\n",
    "        super(Cnn, self).__init__()\n",
    "        \n",
    "        '''Exercise - Fill in the architecture'''\n",
    "\n",
    "    def forward(self, x):\n",
    "        '''Exercise - Fill in the Forward propagation function'''\n",
    "        return x"
   ]
  },
  {
   "cell_type": "code",
   "execution_count": 4,
   "metadata": {},
   "outputs": [
    {
     "name": "stdout",
     "output_type": "stream",
     "text": [
      "Using Device =  cuda\n"
     ]
    }
   ],
   "source": [
    "'''\n",
    "Check Device == 'cuda'. USE GPU !!!!. Otherwise things will be super slow. Check\n",
    "https://medium.com/deep-learning-turkey/google-colab-free-gpu-tutorial-e113627b9f5d \n",
    "'''\n",
    "\n",
    "print('Using Device = ',device)"
   ]
  },
  {
   "cell_type": "code",
   "execution_count": 28,
   "metadata": {},
   "outputs": [],
   "source": [
    "'''\n",
    "We invoke Skorch to wrap our NN defined using PyTorch above\n",
    "\n",
    "'''\n",
    "\n",
    "cnn = NeuralNetClassifier(\n",
    "    Cnn,\n",
    "    #These are just some defaults we specify. These will be overridden by skorch during Gridsearch\n",
    "    max_epochs=25,\n",
    "    lr=0.0001,\n",
    "    device=device,\n",
    "    optimizer=torch.optim.Adam\n",
    ")"
   ]
  },
  {
   "cell_type": "code",
   "execution_count": null,
   "metadata": {},
   "outputs": [],
   "source": [
    "'''\n",
    "\n",
    "NNs are all about Parameter tuning. This is where we invoke the Skorch Package to simplify our life and exhaustively\n",
    "tune the NN.\n",
    "\n",
    "Just as you do Grid Search for usual Machine Learning Algorithms in Python. You specify your grid. Using this grid\n",
    "SkLearn forms all possible combinations of Parameters and refits the NN for each unique combination formed out of the\n",
    "grid.\n",
    "\n",
    "'''\n",
    "\n",
    "'''\n",
    "Exercise - Play with this grid of parameters. Report the best settings.\n",
    "'''\n",
    "\n",
    "grid = {\n",
    "    'lr': [0.0001, 0.0003]\n",
    "    ,'max_epochs' : [20,25]\n",
    "}\n",
    "\n",
    "'''\n",
    "Important that you keep refit = True\n",
    "'''\n",
    "gs = GridSearchCV(cnn, grid, refit=True, cv=3, scoring='accuracy')\n",
    "\n",
    "\n",
    "'''\n",
    "Finally fit\n",
    "'''\n",
    "gs.fit(X_train, y_train)\n",
    "\n",
    "#Report Best Parameters\n",
    "print(gs.best_score_, gs.best_params_)\n"
   ]
  },
  {
   "cell_type": "code",
   "execution_count": null,
   "metadata": {},
   "outputs": [],
   "source": [
    "'''\n",
    "Use the best fitted parameters to predict on the Test MNIST dataset that we created initially.\n",
    "'''\n",
    "\n",
    "y_pred = gs.predict(X_test)\n",
    "\n",
    "#Finally Print out the Accuracy Score on Test MNIST Dataset\n",
    "accuracy_score(y_test, y_pred)"
   ]
  },
  {
   "cell_type": "code",
   "execution_count": null,
   "metadata": {},
   "outputs": [],
   "source": [
    "'''\n",
    "Exercise - Just checking some random images that were misclassified by our Tuned NN. Why do you think CNN. failed in\n",
    "certain cases?\n",
    "'''\n",
    "\n",
    "#Check some cases that went wrong\n",
    "\n",
    "error_mask = y_pred != y_test\n",
    "plot_example(X_test[error_mask], y_pred[error_mask])"
   ]
  },
  {
   "cell_type": "code",
   "execution_count": null,
   "metadata": {},
   "outputs": [],
   "source": [
    "'''\n",
    "Exercise - In one short paragraph explain what is so special about CNNs when it comes to Image recognition?\n",
    "'''"
   ]
  }
 ],
 "metadata": {
  "kernelspec": {
   "display_name": "Python 3",
   "language": "python",
   "name": "python3"
  },
  "language_info": {
   "codemirror_mode": {
    "name": "ipython",
    "version": 3
   },
   "file_extension": ".py",
   "mimetype": "text/x-python",
   "name": "python",
   "nbconvert_exporter": "python",
   "pygments_lexer": "ipython3",
   "version": "3.6.3"
  }
 },
 "nbformat": 4,
 "nbformat_minor": 2
}
