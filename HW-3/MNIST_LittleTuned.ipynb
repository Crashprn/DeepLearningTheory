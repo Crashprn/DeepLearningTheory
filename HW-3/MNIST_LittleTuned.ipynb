{
 "cells": [
  {
   "cell_type": "code",
   "execution_count": null,
   "metadata": {},
   "outputs": [],
   "source": [
    "import torch\n",
    "import torch.nn as nn\n",
    "import torchvision\n",
    "import torchvision.transforms as transforms\n",
    "\n",
    "# Device configuration - If you have CUDA configured, you must use it. Try training with CPU and observe what happens\n",
    "device = torch.device('cuda' if torch.cuda.is_available() else 'cpu')\n",
    "\n",
    "#Setting a seed for torch\n",
    "torch.manual_seed(...) '''Exercise - Your seed will be the last 6 digits of your A# excluding any leading zeros'''\n"
   ]
  },
  {
   "cell_type": "code",
   "execution_count": null,
   "metadata": {},
   "outputs": [],
   "source": [
    "#Check your Current Working Directory\n",
    "!pwd"
   ]
  },
  {
   "cell_type": "code",
   "execution_count": null,
   "metadata": {},
   "outputs": [],
   "source": [
    "#Set Batch Size\n",
    "batch_size = ... '''Exercise - Set the correct batch size. '''\n",
    "\n",
    "\n",
    "# Download MNIST dataset to local drive. A new folder \"data\" will be created in the current directory to store data\n",
    "train_dataset = torchvision.datasets.MNIST(root='./data', \n",
    "                                           train=True, \n",
    "                                           transform=transforms.ToTensor(),  \n",
    "                                           download=True)\n",
    "\n",
    "test_dataset = torchvision.datasets.MNIST(root='./data', \n",
    "                                          train=False, \n",
    "                                          transform=transforms.ToTensor())\n",
    "\n",
    "# Data loader for shuffling and batching.\n",
    "train_loader = torch.utils.data.DataLoader(dataset=train_dataset, \n",
    "                                           batch_size=batch_size, \n",
    "                                           shuffle=True)\n",
    "\n",
    "test_loader = torch.utils.data.DataLoader(dataset=test_dataset, \n",
    "                                          batch_size=batch_size, \n",
    "                                          shuffle=False)\n",
    "\n"
   ]
  },
  {
   "cell_type": "code",
   "execution_count": null,
   "metadata": {},
   "outputs": [],
   "source": [
    "# Hyper-parameters - We are specifying these apriori\n",
    "\n",
    "#Network Architecture\n",
    "input_size = 784\n",
    "hidden_size = ... '''Exercise - Vary this number and observe the changes'''\n",
    "num_classes = 10 '''Output layer has 10 nodes because we want to predict 10 classes'''\n",
    "\n",
    "#Training Parameters\n",
    "num_epochs = ... '''Exercise - Vary the number of epochs and observe the changes'''\n",
    "learning_rate = ... '''Exercise - Vary the learning rate and observe the changes'''\n",
    "\n",
    "# Fully connected neural network with one hidden layer\n",
    "class NeuralNet(nn.Module):\n",
    "    \n",
    "    def __init__(self, input_size, hidden_size, num_classes):\n",
    "        super(NeuralNet, self).__init__()\n",
    "        '''\n",
    "        Exercise - Define the N/w architecture. Use RELU Activation\n",
    "        '''\n",
    "        self.fc1 = ...... '''Exercise - Define a Linear Unit with input size and hidden size''' \n",
    "        self.relu = ..... '''Exercise - Define a RELU Activation unit'''\n",
    "        self.fc2 = ...... '''Exercise - Define a Linear Unit with input size and output size (number of classes for MNIST)'''  \n",
    "    \n",
    "    def forward(self, x):\n",
    "        '''\n",
    "        Exercise - Forward Propagate through the layers as defined above. Fill in params in place of ...\n",
    "        '''\n",
    "        out = self.fc1(...)\n",
    "        out = self.relu(...)\n",
    "        out = self.fc2(...)\n",
    "        return out\n",
    "\n",
    "#Define the Model Object\n",
    "model = NeuralNet(input_size, hidden_size, num_classes).to(device)\n",
    "\n",
    "# Define the Loss Function and optimizer\n",
    "criterion = ... '''Exercise - Define a proper loss function'''\n",
    "optimizer = ... '''Exercise - Invoke an appropriate optimizer that takes a '''  \n"
   ]
  },
  {
   "cell_type": "code",
   "execution_count": null,
   "metadata": {},
   "outputs": [],
   "source": [
    "# Train the model\n",
    "total_step = len(train_loader)\n",
    "for epoch in range(num_epochs):\n",
    "    for i, (images, labels) in enumerate(train_loader):  \n",
    "        # Move tensors to the configured device\n",
    "        images = images.reshape(-1, 28*28).to(device)\n",
    "        labels = labels.to(device)\n",
    "        \n",
    "        # Forward pass\n",
    "        \n",
    "        '''Exercise - Get Network outputs with forward propagation with current network weights'''\n",
    "        outputs = model(...)\n",
    "        '''Exercise - Get Loss by comparing outputs with True Labels after forward propagation'''\n",
    "        loss = criterion(..., ...)\n",
    "        \n",
    "        # Backward and optimize\n",
    "        \n",
    "        '''Exercise - ... below needs to be replaced with functions'''\n",
    "        \n",
    "        optimizer. '''Exercise - clear the gradients after each pass - Strongly recommended'''\n",
    "        loss. '''Backpropagate the Loss to calculate gradient for each weight'''\n",
    "        optimizer. '''Update the weight using the learning rate'''\n",
    "        \n",
    "        #Print Progress every 100 steps\n",
    "        if (i+1) % 100 == 0:\n",
    "            print ('Epoch [{}/{}], Step [{}/{}], Loss: {:.4f}' \n",
    "                   .format(epoch+1, num_epochs, i+1, total_step, loss.item()))"
   ]
  },
  {
   "cell_type": "code",
   "execution_count": null,
   "metadata": {},
   "outputs": [],
   "source": [
    "# Test the model\n",
    "\n",
    "with torch.no_grad(): # In test phase, we don't need to compute gradients (for memory efficiency)\n",
    "    correct = 0\n",
    "    total = 0\n",
    "    for images, labels in test_loader:\n",
    "        '''Exercise - Move images to device after appropriate reshaping'''\n",
    "        \n",
    "        '''Exercise - Move labels to device'''\n",
    "        \n",
    "        #get network outputs\n",
    "        outputs = model(images)\n",
    "        _, predicted = torch.max(outputs.data, 1)\n",
    "        total += labels.size(0)\n",
    "        correct += (predicted == labels).sum().item()\n",
    "\n",
    "    print('Accuracy of the network on the 10000 test images: {} %'.format(100 * correct / total))\n"
   ]
  },
  {
   "cell_type": "code",
   "execution_count": null,
   "metadata": {},
   "outputs": [],
   "source": [
    "# Save the model checkpoint for future use\n",
    "torch.save(model.state_dict(), 'model.ckpt')"
   ]
  }
 ],
 "metadata": {
  "kernelspec": {
   "display_name": "Python 3",
   "language": "python",
   "name": "python3"
  },
  "language_info": {
   "codemirror_mode": {
    "name": "ipython",
    "version": 3
   },
   "file_extension": ".py",
   "mimetype": "text/x-python",
   "name": "python",
   "nbconvert_exporter": "python",
   "pygments_lexer": "ipython3",
   "version": "3.6.3"
  }
 },
 "nbformat": 4,
 "nbformat_minor": 2
}
