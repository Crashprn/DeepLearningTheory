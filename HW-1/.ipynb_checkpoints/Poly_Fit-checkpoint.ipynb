{
 "cells": [
  {
   "cell_type": "code",
   "execution_count": 1,
   "metadata": {},
   "outputs": [
    {
     "data": {
      "text/plain": [
       "'\\n.....IMPORTANT USAGE INSTRUCTIONS........\\n\\n##### IF USING CHPC - UTAH #####\\n\\n1. Download this Jupyter Notebook to a local location on your Computer\\n2. Go to https://ondemand.chpc.utah.edu and sign in using your uNID and Password.\\n3. At the Top of the Page, notice the Menu \"Interactive Apps\". Click and Choose \"Jupyter Notebook on Notchpeak\"\\n4. A form will open, enter all details, and then Launch a Jupyter Notebook. It will take a minute.\\n5. Click on \"Connect to Jupyter\"\\n6. Once Jupyter Launches. On Top Right Notice \"Upload Button\". Use this to Upload this Notebook.\\n7. The Notebook will be uploaded. Finish writing the Code whereever specified.\\n8. Run each Block of Code and then finally download the Jupyter Notebook by going to File >> Download as >>\\n\\n\\n##### IF USING GOOGLE COLAB #####\\n\\n1. Download this Jupyter Notebook to a local location on your Computer\\n2. Go to https://colab.research.google.com/ and sign in using your Google Account - So that your work is saved in\\n   your Google Drive permanently.\\n3. Go to File >> Upload Notebook.\\n4. Finish writing the Code whereever specified.\\n5. Run each Block of Code ad then finally download the Jupyter Notebook by going to File >> Download .ipynb\\n\\n'"
      ]
     },
     "execution_count": 1,
     "metadata": {},
     "output_type": "execute_result"
    }
   ],
   "source": [
    "'''\n",
    ".....IMPORTANT USAGE INSTRUCTIONS........\n",
    "\n",
    "##### IF USING CHPC - UTAH #####\n",
    "\n",
    "1. Download this Jupyter Notebook to a local location on your Computer\n",
    "2. Go to https://ondemand.chpc.utah.edu and sign in using your uNID and Password.\n",
    "3. At the Top of the Page, notice the Menu \"Interactive Apps\". Click and Choose \"Jupyter Notebook on Notchpeak\"\n",
    "4. A form will open, enter all details, and then Launch a Jupyter Notebook. It will take a minute.\n",
    "5. Click on \"Connect to Jupyter\"\n",
    "6. Once Jupyter Launches. On Top Right Notice \"Upload Button\". Use this to Upload this Notebook.\n",
    "7. The Notebook will be uploaded. Finish writing the Code whereever specified.\n",
    "8. Run each Block of Code and then finally download the Jupyter Notebook by going to File >> Download as >>\n",
    "\n",
    "\n",
    "##### IF USING GOOGLE COLAB #####\n",
    "\n",
    "1. Download this Jupyter Notebook to a local location on your Computer\n",
    "2. Go to https://colab.research.google.com/ and sign in using your Google Account - So that your work is saved in\n",
    "   your Google Drive permanently.\n",
    "3. Go to File >> Upload Notebook.\n",
    "4. Finish writing the Code whereever specified.\n",
    "5. Run each Block of Code ad then finally download the Jupyter Notebook by going to File >> Download .ipynb\n",
    "\n",
    "'''"
   ]
  },
  {
   "cell_type": "code",
   "execution_count": 2,
   "metadata": {},
   "outputs": [
    {
     "data": {
      "text/plain": [
       "'\\n.....IMPORTANT SUBMISSION INSTRUCTIONS........\\n\\nOnce you write the code for \"compute_weights\" function, run the entire Jupyter Notebook. Once everything runs \\nsuccessfully, download the jupyter notebook and attach that to your submission in Canvas. During evaluation, I\\nwill run your Jupyter Notebook to verify that everything is running as expected.\\n\\nDo not forget to include your main results and plots in your latex file (with other homework questions) \\nbefore submission.\\n\\n'"
      ]
     },
     "execution_count": 2,
     "metadata": {},
     "output_type": "execute_result"
    }
   ],
   "source": [
    "'''\n",
    ".....IMPORTANT SUBMISSION INSTRUCTIONS........\n",
    "\n",
    "Once you write the code for \"compute_weights\" function, run the entire Jupyter Notebook. Once everything runs \n",
    "successfully, download the jupyter notebook and attach that to your submission in Canvas. During evaluation, I\n",
    "will run your Jupyter Notebook to verify that everything is running as expected.\n",
    "\n",
    "Do not forget to include your main results and plots in your latex file (with other homework questions) \n",
    "before submission.\n",
    "\n",
    "'''"
   ]
  },
  {
   "cell_type": "code",
   "execution_count": 3,
   "metadata": {},
   "outputs": [],
   "source": [
    "%matplotlib inline\n",
    "\n",
    "#Libraries\n",
    "import numpy as np\n",
    "import pandas as pd\n",
    "from sklearn.metrics import mean_squared_error\n",
    "\n",
    "#Python Plotting Library\n",
    "import matplotlib.pyplot as plt\n",
    "#We use the ggplot theme which is just beautiful\n",
    "plt.style.use('ggplot')\n",
    "\n",
    "# Fixing random seed for reproducibility\n",
    "np.random.seed(19680801)"
   ]
  },
  {
   "cell_type": "code",
   "execution_count": null,
   "metadata": {},
   "outputs": [],
   "source": [
    "#Helper Functions. Each of their roles is defined in the next Code Block\n",
    "\n",
    "'''\n",
    "Note : Operator \"**\" => \"raised to\" in Python i.e. 3^2 = 9 will be written as 3**2 = 9 in Python\n",
    "'''\n",
    "\n",
    "def poly(list):\n",
    "    \n",
    "    #We are using Python list comprehension here instead of For Loop\n",
    "    return [ i ** 2 - 3 * i + 1 for i in list] \n",
    "\n",
    "def PolyCoefficients(x, coeffs):\n",
    "    \"\"\" Returns a polynomial for x values for the coeffs provided.\n",
    "        The coefficients must be in ascending order (x**0 to x**o).\n",
    "    \"\"\"\n",
    "    o = len(coeffs)\n",
    "    y = 0\n",
    "    for i in range(o):\n",
    "        y += coeffs[i]*x**i\n",
    "    return y\n",
    "\n",
    "def compute_weights(X,y):\n",
    "    '''\n",
    "    This is the function that you need to write yourself. Essentially you use the solution of\n",
    "    the Normal Equation. i.e. Xty=XtXβ. The way we solve this system is by using np.linalg.solve\n",
    "    function. Therefore roughly speaking:\n",
    "    a. Use numpy to transpose X call it Xt\n",
    "    b. Compute dot product of Xt with X using numpy\n",
    "    c. Compute dot product of Xt with y using numpy\n",
    "    d. Finally use \"np.linalg.solve\" to get the coefficients (weights) - Call it beta\n",
    "    \n",
    "    '''\n",
    "    \n",
    "    return(beta)\n"
   ]
  },
  {
   "cell_type": "code",
   "execution_count": null,
   "metadata": {},
   "outputs": [],
   "source": [
    "'''\n",
    "    This function does a lot of things:\n",
    "    \n",
    "    a. Generates N datapoints over Uniform Range ~ Unif[-1,3]. Store as \"x\"\n",
    "    b. Computes the coressponding \"y-value\" using helper function poly defined above\n",
    "    c. Adds a little Normal Noise to the \"y-values\" so that we can fit a polynomial regression on it.\n",
    "    d. Also creates an input set of values that would be used with the y-values in (c). These are nothing\n",
    "       but a fixed offset term 1 and then powers of x ranging from x**1 to x**9. We do so because we want\n",
    "       to fit multiple polynomials up to 9th degree. Note that we chose to store everything in a Pandas Dataframe \n",
    "       for ease of use. This will be a common theme even in future exercises\n",
    "    e. We now have everything to fit polynomial regressions of order 1, 2 & 9. For fitting we will rely on\n",
    "       the helper function \"compute_weights\" - This is the function that you will have to define\n",
    "    f. Use the weights from (e) to calculate y_hat using the \"PolyCoefficients\" helper function. Again using\n",
    "       the inbuilt \"mean_squared_error\" from sklearn package, wee calculate the Mean Squared Error for each\n",
    "       kind of fit\n",
    "    g. We then finally use Matplotlib Package to plot how well each polynomial fit y_noise. Take note of\n",
    "       Matplotlib syntax in case you are new to it.\n",
    "       \n",
    "       Things to Note in the Code used for Plotting\n",
    "       1. All fits represented in same plot i.e. You can use multiple plot statements in a sequence\n",
    "       2. Use of Legends\n",
    "       3. Properly setting a title with Latex Expressions\n",
    "    \n",
    "    '''\n",
    "\n",
    "def generate_output_plot(N,sigma):\n",
    "    \n",
    "#Part - a\n",
    "    x = np.random.uniform(low=-1, high=3, size=N)\n",
    "    y = poly(x)\n",
    "\n",
    "#Part - b\n",
    "    mu = 0 # mean = 0 and standard deviation from Input\n",
    "    noise = np.random.normal(mu, sigma, N)\n",
    "\n",
    "#Part - c\n",
    "    y_noise = y + noise\n",
    "\n",
    "\n",
    "#Part - d\n",
    "    dataset = pd.DataFrame({'x_0':1,'x_1':x})\n",
    "    dataset['x_2'] = dataset.apply(lambda row: row.x_1**2, axis=1)\n",
    "    dataset['x_3'] = dataset.apply(lambda row: row.x_1**3, axis=1)\n",
    "    dataset['x_4'] = dataset.apply(lambda row: row.x_1**4, axis=1)\n",
    "    dataset['x_5'] = dataset.apply(lambda row: row.x_1**5, axis=1)\n",
    "    dataset['x_6'] = dataset.apply(lambda row: row.x_1**6, axis=1)\n",
    "    dataset['x_7'] = dataset.apply(lambda row: row.x_1**7, axis=1)\n",
    "    dataset['x_8'] = dataset.apply(lambda row: row.x_1**8, axis=1)\n",
    "    dataset['x_9'] = dataset.apply(lambda row: row.x_1**9, axis=1)\n",
    "\n",
    "#Part - e\n",
    "    #Generating a lot of x values to be used for Plotting. \"linspace\" is the preferred function\n",
    "    x = np.linspace(-1, 3, 100) \n",
    "    \n",
    "    coeffs_9 = compute_weights(dataset.iloc[:, 0:10],y_noise)\n",
    "    coeffs_2 = compute_weights(dataset.iloc[:, 0:3],y_noise)\n",
    "    coeffs_1 = compute_weights(dataset.iloc[:, 0:2],y_noise)\n",
    "    \n",
    "    print('......PRINTING OUT COEFFICIENTS........')\n",
    "    print('Coefficients for Polynomial of 9th order are  ', coeffs_9)\n",
    "    print('Coefficients for Polynomial of 2nd order are  ', coeffs_2)\n",
    "    print('Coefficient for Simple Linear Regression is  ', coeffs_1)\n",
    "\n",
    "#Part - f\n",
    "\n",
    "    print('......PRINTING OUT ERRORS FOR EACH POLYNOMIAL FIT........')\n",
    "    print('Error for Polynomial of 9th order = ', mean_squared_error(y_noise, PolyCoefficients(dataset.iloc[:, 1], coeffs_9)))\n",
    "    print('Error for Polynomial of 2nd order = ', mean_squared_error(y_noise, PolyCoefficients(dataset.iloc[:, 1], coeffs_2)))\n",
    "    print('Error for Simple Linear Regression = ', mean_squared_error(y_noise, PolyCoefficients(dataset.iloc[:, 1], coeffs_1)))\n",
    "    \n",
    "#Part - g\n",
    "    print('\\n')\n",
    "    print('......Generating Plots of True Data vs Fit for different polynomial fits.........')\n",
    "    plt.plot(x, PolyCoefficients(x, coeffs_9), color = \"red\")\n",
    "    plt.plot(x, PolyCoefficients(x, coeffs_2), color = \"blue\")\n",
    "    plt.plot(x, PolyCoefficients(x, coeffs_1), color = \"green\")\n",
    "    plt.plot(dataset.iloc[:, 1], y_noise, 'x', color='orange')\n",
    "    plt.gca().legend(('Degree 9','Degree 2','Degree 1'))\n",
    "    plt.title(r'$N = $' + str(N) + r', $\\sigma = $'+ str(sigma))\n",
    "    plt.show()\n"
   ]
  },
  {
   "cell_type": "code",
   "execution_count": null,
   "metadata": {},
   "outputs": [],
   "source": [
    "\n",
    "#Plots for N = 15\n",
    "p1 = generate_output_plot(N=15, sigma=0.00)\n",
    "p2 = generate_output_plot(N=15, sigma=0.05)\n",
    "p3 = generate_output_plot(N=15, sigma=0.20)\n"
   ]
  },
  {
   "cell_type": "code",
   "execution_count": null,
   "metadata": {},
   "outputs": [],
   "source": [
    "#Plots for N = 100\n",
    "p4 = generate_output_plot(N=100, sigma=0)\n",
    "p5 = generate_output_plot(N=100, sigma=0.05)\n",
    "p6 = generate_output_plot(N=100, sigma=0.2)\n"
   ]
  },
  {
   "cell_type": "code",
   "execution_count": null,
   "metadata": {},
   "outputs": [],
   "source": []
  }
 ],
 "metadata": {
  "kernelspec": {
   "display_name": "Python 3",
   "language": "python",
   "name": "python3"
  },
  "language_info": {
   "codemirror_mode": {
    "name": "ipython",
    "version": 3
   },
   "file_extension": ".py",
   "mimetype": "text/x-python",
   "name": "python",
   "nbconvert_exporter": "python",
   "pygments_lexer": "ipython3",
   "version": "3.7.6"
  }
 },
 "nbformat": 4,
 "nbformat_minor": 2
}
